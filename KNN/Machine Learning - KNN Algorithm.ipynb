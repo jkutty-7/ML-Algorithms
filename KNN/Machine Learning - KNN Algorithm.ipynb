{
 "cells": [
  {
   "cell_type": "markdown",
   "id": "16a0e513",
   "metadata": {},
   "source": [
    "# KNN-K Nearest Neighbor Algorithm"
   ]
  },
  {
   "cell_type": "markdown",
   "id": "b0d13764",
   "metadata": {},
   "source": [
    "### About KNN\n",
    "\n",
    "1. It is a Supervised Learning Model - which means that it uses Labelled Data\n",
    "2. Used for both Classification and Regression - To classify data points to the categories and Regression is about predicting numbers example - Does a person get a job on the basis of educational qualification and what is salary he is going to make.\n",
    "3. Can be used for non-linear data\n",
    "4. we have to define the K value in K-Neighbors\n",
    "5. In KNN we Try to find the Euclidean Distance or Manhattan Distance to calculate the distance between datapoint\n",
    "6. In Regression we will take the mean of 5 datapoints to make the prediction"
   ]
  },
  {
   "cell_type": "markdown",
   "id": "80e1791e",
   "metadata": {},
   "source": [
    "### Adavantages of KNN\n",
    "\n",
    "1. Works well with smaller datasets with less number of features\n",
    "2. Can be used for both Classification and Regression\n",
    "3. Easy to implement for multi-class classification Problems\n",
    "4. Different distance criteria can be used eg:manhattan distance,Euclidean Distance"
   ]
  },
  {
   "cell_type": "markdown",
   "id": "a91e5120",
   "metadata": {},
   "source": [
    "### Disadvantages of KNN\n",
    "\n",
    "1. Choosing Optimum K value\n",
    "2. Less efficient with high dimensional data\n",
    "3. Dosen't Perform well on imbalanced Data - imbalanced data means when we are having a very less number of instance in the minority class than the majority class\n",
    "4. Very sensitive towards Outliers"
   ]
  },
  {
   "cell_type": "markdown",
   "id": "d1966b55",
   "metadata": {},
   "source": [
    "## Math Behind KNN Classifier"
   ]
  },
  {
   "cell_type": "markdown",
   "id": "059dfec6",
   "metadata": {},
   "source": [
    "We actually use 2 types of measurements that is Euclidean Disatance,Manhattan Distance.\n",
    "\n",
    "The Euclidean distance formula is used to find the distance between two points on a plane. This formula says the distance between two points (x1 1 , y1 1 ) and (x2 2 , y2 2 ) is d = √(x2 – x1)^2 + (y2 – y1)^2.It is mainly used when there is low dimensionality in the features.it can have a slanted line between the datapoints.if we have more feature we will add (z2 -z1)^2 in the above formula.\n",
    "\n",
    "Manhattan Distance = | x 1 − x 2 | + | y 1 − y 2 | is the Formula used to find the distance between the datapoints when the data is having high dimensionality in features.it always moves in a 90 degree lines.\n",
    "\n",
    "###### Referred From siddardhan Youtube."
   ]
  },
  {
   "cell_type": "markdown",
   "id": "d1db8329",
   "metadata": {},
   "source": [
    "### Calculating Euclidean Distance and Manhattan Distance"
   ]
  },
  {
   "cell_type": "code",
   "execution_count": 1,
   "id": "688994a1",
   "metadata": {},
   "outputs": [],
   "source": [
    "#Importing the Dependencies\n",
    "import numpy as np "
   ]
  },
  {
   "cell_type": "code",
   "execution_count": 2,
   "id": "e950088b",
   "metadata": {},
   "outputs": [],
   "source": [
    "#Consider two points with 2 dimensions\n",
    "p1 = (1,1)\n",
    "p2 = (2,2)"
   ]
  },
  {
   "cell_type": "code",
   "execution_count": 4,
   "id": "7504dbff",
   "metadata": {},
   "outputs": [
    {
     "data": {
      "text/plain": [
       "1.4142135623730951"
      ]
     },
     "execution_count": 4,
     "metadata": {},
     "output_type": "execute_result"
    }
   ],
   "source": [
    "#Calculating the Euclidean Distance\n",
    "dist = (p1[0]-p2[0])**2 + (p1[1]-p2[1])**2 \n",
    "eucli_dist = np.sqrt(dist)\n",
    "eucli_dist"
   ]
  },
  {
   "cell_type": "code",
   "execution_count": 5,
   "id": "44846c52",
   "metadata": {},
   "outputs": [
    {
     "data": {
      "text/plain": [
       "1.7320508075688772"
      ]
     },
     "execution_count": 5,
     "metadata": {},
     "output_type": "execute_result"
    }
   ],
   "source": [
    "#Consider two points with 3 dimensions\n",
    "p1 = (1,1,1)\n",
    "p2 = (2,2,2)\n",
    "\n",
    "#Calculating the Euclidean Distance\n",
    "dist = (p1[0]-p2[0])**2 + (p1[1]-p2[1])**2 + (p1[2]-p2[2])**2\n",
    "eucli_dist = np.sqrt(dist)\n",
    "eucli_dist"
   ]
  },
  {
   "cell_type": "code",
   "execution_count": 8,
   "id": "3fd62f20",
   "metadata": {},
   "outputs": [
    {
     "name": "stdout",
     "output_type": "stream",
     "text": [
      "2.0\n"
     ]
    }
   ],
   "source": [
    "#Consider two points with 4 dimensions\n",
    "p1 = (1,1,1,1)\n",
    "p2 = (2,2,2,2)\n",
    "\n",
    "\n",
    "dist = 0 \n",
    "\n",
    "for i in range(len(p1)):\n",
    "    dist = dist + (p1[i]-p2[i])**2\n",
    "    \n",
    "eucli_dist = np.sqrt(dist)\n",
    "print(eucli_dist)"
   ]
  },
  {
   "cell_type": "markdown",
   "id": "51a8a176",
   "metadata": {},
   "source": [
    "##### Creating a Function for Euclidean Distance"
   ]
  },
  {
   "cell_type": "code",
   "execution_count": 26,
   "id": "2233e25e",
   "metadata": {},
   "outputs": [],
   "source": [
    "#Both the p1 and p2 should be in same dimension\n",
    "def get_eucli_dist(p1,p2):\n",
    "    dist = 0 \n",
    "\n",
    "    for i in range(len(p1)):\n",
    "        dist = dist + (p1[i]-p2[i])**2\n",
    "    \n",
    "    eucli_dist = np.sqrt(dist)\n",
    "    print(eucli_dist)"
   ]
  },
  {
   "cell_type": "code",
   "execution_count": 12,
   "id": "6ab661aa",
   "metadata": {},
   "outputs": [
    {
     "name": "stdout",
     "output_type": "stream",
     "text": [
      "1.7320508075688772\n"
     ]
    }
   ],
   "source": [
    "get_eucli_dist((1,1,1),(2,2,2))"
   ]
  },
  {
   "cell_type": "markdown",
   "id": "9f6bc686",
   "metadata": {},
   "source": [
    "### Manhattan Distance\n",
    "\n",
    "Formula for Manhattan Distance : Manhattan distance = |x2 - x1| + |y2 - y1|"
   ]
  },
  {
   "cell_type": "code",
   "execution_count": 27,
   "id": "15281353",
   "metadata": {},
   "outputs": [],
   "source": [
    "#Creating a function for Manhattan Distance \n",
    "def get_manhattan_dist(p1,p2):\n",
    "    dist = 0 \n",
    "\n",
    "    for i in range(len(p1)):\n",
    "        dist = dist + abs(p1[i]-p2[i])\n",
    "    man_dist = dist\n",
    "    print(man_dist)"
   ]
  },
  {
   "cell_type": "code",
   "execution_count": 19,
   "id": "837e73b9",
   "metadata": {},
   "outputs": [
    {
     "name": "stdout",
     "output_type": "stream",
     "text": [
      "4\n"
     ]
    }
   ],
   "source": [
    "get_manhattan_dist((1,1,1,1),(2,2,2,2))"
   ]
  },
  {
   "cell_type": "markdown",
   "id": "9dbfc121",
   "metadata": {},
   "source": [
    "### Calculating the distance between 2 data points from heart Dataset which is similar"
   ]
  },
  {
   "cell_type": "code",
   "execution_count": 35,
   "id": "09089822",
   "metadata": {},
   "outputs": [
    {
     "name": "stdout",
     "output_type": "stream",
     "text": [
      "37.188170162028676\n"
     ]
    }
   ],
   "source": [
    "get_eucli_dist((60,0,3,150,240,0,1,171,0,0.9,2,0,2),(66,1,0,160,228,0,0,138,0,2.3,2,0,1))"
   ]
  },
  {
   "cell_type": "code",
   "execution_count": 36,
   "id": "e0fefb13",
   "metadata": {},
   "outputs": [
    {
     "name": "stdout",
     "output_type": "stream",
     "text": [
      "68.4\n"
     ]
    }
   ],
   "source": [
    "get_manhattan_dist((60,0,3,150,240,0,1,171,0,0.9,2,0,2),(66,1,0,160,228,0,0,138,0,2.3,2,0,1))"
   ]
  },
  {
   "cell_type": "markdown",
   "id": "bdef5480",
   "metadata": {},
   "source": [
    "### Calculating the distance between 2 data points from heart Dataset which is not similar"
   ]
  },
  {
   "cell_type": "code",
   "execution_count": 33,
   "id": "07b9d4df",
   "metadata": {},
   "outputs": [
    {
     "name": "stdout",
     "output_type": "stream",
     "text": [
      "86.26754893933176\n"
     ]
    }
   ],
   "source": [
    "get_eucli_dist((55,0,1,132,342,0,1,166,0,1.2,2,0,2),(67,1,0,160,286,0,0,108,1,1.5,1,3,2))"
   ]
  },
  {
   "cell_type": "code",
   "execution_count": 34,
   "id": "b94caad0",
   "metadata": {},
   "outputs": [
    {
     "name": "stdout",
     "output_type": "stream",
     "text": [
      "162.3\n"
     ]
    }
   ],
   "source": [
    "get_manhattan_dist((55,0,1,132,342,0,1,166,0,1.2,2,0,2),(67,1,0,160,286,0,0,108,1,1.5,1,3,2))"
   ]
  },
  {
   "cell_type": "markdown",
   "id": "b8e8e80e",
   "metadata": {},
   "source": [
    "## Building K-Nearest Neighbor from Scratch"
   ]
  },
  {
   "cell_type": "code",
   "execution_count": 37,
   "id": "ebb8169a",
   "metadata": {},
   "outputs": [],
   "source": [
    "#Importing the Dependencies\n",
    "import numpy as np \n",
    "import statistics"
   ]
  },
  {
   "cell_type": "code",
   "execution_count": 89,
   "id": "c9003822",
   "metadata": {},
   "outputs": [],
   "source": [
    "#Knn Classifier \n",
    "class KNN_Classifier():\n",
    "    \n",
    "    #Initiating the Parameters\n",
    "    def __init__(self,distance_metric):\n",
    "        \n",
    "        self.distance_metric = distance_metric\n",
    "        \n",
    "    #getting the distance metric     \n",
    "    def get_distance_metric(self,training_data,testing_data):\n",
    "        \n",
    "        if (self.distance_metric == 'euclidean'):\n",
    "            \n",
    "            dist = 0\n",
    "            \n",
    "            for i in range(len(training_data)-1):   #we need to take all the features excluding the target column\n",
    "                dist = dist + (training_data[i] - testing_data[i])**2\n",
    "                \n",
    "            euclidean_dist = np.sqrt(dist)\n",
    "            return euclidean_dist\n",
    "        \n",
    "        elif (self.distance_metric == 'manhattan'):\n",
    "            \n",
    "            dist=0\n",
    "            \n",
    "            for i in range(len(training_data)-1):\n",
    "                dist = dist + abs(training_data[i]-testing_data[i])\n",
    "                \n",
    "            manhattan_dist = dist\n",
    "            return manhattan_dist\n",
    "                \n",
    "        \n",
    "    #Getting the nearest neighbors for the new datapoint. X_train is having all the data point and in test_data the new point.\n",
    "    #We are actually using this function in inside a function which is Predict function\n",
    "    def nearest_neighbors(self, X_train, test_data, k ):\n",
    "        \n",
    "        distance_list = []\n",
    "        \n",
    "        for training_data in X_train:\n",
    "            \n",
    "            distance = self.get_distance_metric(training_data,test_data)\n",
    "            distance_list.append((training_data,distance))\n",
    "            \n",
    "        distance_list.sort(key=lambda x:x[1]) # this line actually sort the array distance_list according to distance\n",
    "        \n",
    "        \n",
    "        neighbors_list = []\n",
    "        \n",
    "        for j in range(k):\n",
    "            neighbors_list.append(distance_list[j][0])\n",
    "            \n",
    "        return neighbors_list\n",
    "    \n",
    "    \n",
    "    #Predict the class of a new data point     \n",
    "    def predict(self,X_train,test_data,k):\n",
    "        \n",
    "        neighbors = self.nearest_neighbors(X_train, test_data, k)\n",
    "        \n",
    "        for data in neighbors:\n",
    "            label = []  #we are actually creating a list for storing the target variable values\n",
    "            label.append(data[-1]) #the first 5 values of target variable  label is stored in label array \n",
    "            \n",
    "        predicted_class = statistics.mode(label) #from that actually we are taking the most repeated value from the label array.\n",
    "        \n",
    "        return predicted_class\n",
    "        "
   ]
  },
  {
   "cell_type": "markdown",
   "id": "fb3654a5",
   "metadata": {},
   "source": [
    "## Implementation of KNN algorithm"
   ]
  },
  {
   "cell_type": "code",
   "execution_count": 38,
   "id": "07d27afe",
   "metadata": {},
   "outputs": [],
   "source": [
    "#Diabetics Prediction\n",
    "#Importing the Dependencies\n",
    "import numpy as np\n",
    "import pandas as pd \n",
    "from sklearn.model_selection import train_test_split\n",
    "from sklearn.metrics import accuracy_score"
   ]
  },
  {
   "cell_type": "code",
   "execution_count": 41,
   "id": "3323666b",
   "metadata": {},
   "outputs": [],
   "source": [
    "#Loading the diabetes data to the pandas dataframe\n",
    "diabetes_dataset = pd.read_csv('E:\\ML\\diabetes.csv')"
   ]
  },
  {
   "cell_type": "code",
   "execution_count": 42,
   "id": "653d6515",
   "metadata": {},
   "outputs": [
    {
     "data": {
      "text/html": [
       "<div>\n",
       "<style scoped>\n",
       "    .dataframe tbody tr th:only-of-type {\n",
       "        vertical-align: middle;\n",
       "    }\n",
       "\n",
       "    .dataframe tbody tr th {\n",
       "        vertical-align: top;\n",
       "    }\n",
       "\n",
       "    .dataframe thead th {\n",
       "        text-align: right;\n",
       "    }\n",
       "</style>\n",
       "<table border=\"1\" class=\"dataframe\">\n",
       "  <thead>\n",
       "    <tr style=\"text-align: right;\">\n",
       "      <th></th>\n",
       "      <th>Pregnancies</th>\n",
       "      <th>Glucose</th>\n",
       "      <th>BloodPressure</th>\n",
       "      <th>SkinThickness</th>\n",
       "      <th>Insulin</th>\n",
       "      <th>BMI</th>\n",
       "      <th>DiabetesPedigreeFunction</th>\n",
       "      <th>Age</th>\n",
       "      <th>Outcome</th>\n",
       "    </tr>\n",
       "  </thead>\n",
       "  <tbody>\n",
       "    <tr>\n",
       "      <th>0</th>\n",
       "      <td>6</td>\n",
       "      <td>148</td>\n",
       "      <td>72</td>\n",
       "      <td>35</td>\n",
       "      <td>0</td>\n",
       "      <td>33.6</td>\n",
       "      <td>0.627</td>\n",
       "      <td>50</td>\n",
       "      <td>1</td>\n",
       "    </tr>\n",
       "    <tr>\n",
       "      <th>1</th>\n",
       "      <td>1</td>\n",
       "      <td>85</td>\n",
       "      <td>66</td>\n",
       "      <td>29</td>\n",
       "      <td>0</td>\n",
       "      <td>26.6</td>\n",
       "      <td>0.351</td>\n",
       "      <td>31</td>\n",
       "      <td>0</td>\n",
       "    </tr>\n",
       "    <tr>\n",
       "      <th>2</th>\n",
       "      <td>8</td>\n",
       "      <td>183</td>\n",
       "      <td>64</td>\n",
       "      <td>0</td>\n",
       "      <td>0</td>\n",
       "      <td>23.3</td>\n",
       "      <td>0.672</td>\n",
       "      <td>32</td>\n",
       "      <td>1</td>\n",
       "    </tr>\n",
       "    <tr>\n",
       "      <th>3</th>\n",
       "      <td>1</td>\n",
       "      <td>89</td>\n",
       "      <td>66</td>\n",
       "      <td>23</td>\n",
       "      <td>94</td>\n",
       "      <td>28.1</td>\n",
       "      <td>0.167</td>\n",
       "      <td>21</td>\n",
       "      <td>0</td>\n",
       "    </tr>\n",
       "    <tr>\n",
       "      <th>4</th>\n",
       "      <td>0</td>\n",
       "      <td>137</td>\n",
       "      <td>40</td>\n",
       "      <td>35</td>\n",
       "      <td>168</td>\n",
       "      <td>43.1</td>\n",
       "      <td>2.288</td>\n",
       "      <td>33</td>\n",
       "      <td>1</td>\n",
       "    </tr>\n",
       "  </tbody>\n",
       "</table>\n",
       "</div>"
      ],
      "text/plain": [
       "   Pregnancies  Glucose  BloodPressure  SkinThickness  Insulin   BMI  \\\n",
       "0            6      148             72             35        0  33.6   \n",
       "1            1       85             66             29        0  26.6   \n",
       "2            8      183             64              0        0  23.3   \n",
       "3            1       89             66             23       94  28.1   \n",
       "4            0      137             40             35      168  43.1   \n",
       "\n",
       "   DiabetesPedigreeFunction  Age  Outcome  \n",
       "0                     0.627   50        1  \n",
       "1                     0.351   31        0  \n",
       "2                     0.672   32        1  \n",
       "3                     0.167   21        0  \n",
       "4                     2.288   33        1  "
      ]
     },
     "execution_count": 42,
     "metadata": {},
     "output_type": "execute_result"
    }
   ],
   "source": [
    "diabetes_dataset.head()"
   ]
  },
  {
   "cell_type": "code",
   "execution_count": 43,
   "id": "c3f73953",
   "metadata": {},
   "outputs": [
    {
     "data": {
      "text/plain": [
       "(768, 9)"
      ]
     },
     "execution_count": 43,
     "metadata": {},
     "output_type": "execute_result"
    }
   ],
   "source": [
    "#No of rows and columns in dataset\n",
    "diabetes_dataset.shape"
   ]
  },
  {
   "cell_type": "code",
   "execution_count": 44,
   "id": "655bd311",
   "metadata": {},
   "outputs": [],
   "source": [
    "#Seperating the features and target\n",
    "X = diabetes_dataset.drop(['Outcome'],axis = 1)\n",
    "Y = diabetes_dataset['Outcome']"
   ]
  },
  {
   "cell_type": "code",
   "execution_count": 49,
   "id": "0dccd62a",
   "metadata": {},
   "outputs": [],
   "source": [
    "# Converting the dataset into numpy array \n",
    "X = np.array(X)\n",
    "Y = np.array(Y)"
   ]
  },
  {
   "cell_type": "code",
   "execution_count": 50,
   "id": "ebad44e5",
   "metadata": {},
   "outputs": [
    {
     "name": "stdout",
     "output_type": "stream",
     "text": [
      "[[  6.    148.     72.    ...  33.6     0.627  50.   ]\n",
      " [  1.     85.     66.    ...  26.6     0.351  31.   ]\n",
      " [  8.    183.     64.    ...  23.3     0.672  32.   ]\n",
      " ...\n",
      " [  5.    121.     72.    ...  26.2     0.245  30.   ]\n",
      " [  1.    126.     60.    ...  30.1     0.349  47.   ]\n",
      " [  1.     93.     70.    ...  30.4     0.315  23.   ]]\n",
      "[1 0 1 0 1 0 1 0 1 1 0 1 0 1 1 1 1 1 0 1 0 0 1 1 1 1 1 0 0 0 0 1 0 0 0 0 0\n",
      " 1 1 1 0 0 0 1 0 1 0 0 1 0 0 0 0 1 0 0 1 0 0 0 0 1 0 0 1 0 1 0 0 0 1 0 1 0\n",
      " 0 0 0 0 1 0 0 0 0 0 1 0 0 0 1 0 0 0 0 1 0 0 0 0 0 1 1 0 0 0 0 0 0 0 0 1 1\n",
      " 1 0 0 1 1 1 0 0 0 1 0 0 0 1 1 0 0 1 1 1 1 1 0 0 0 0 0 0 0 0 0 0 1 0 0 0 0\n",
      " 0 0 0 0 1 0 1 1 0 0 0 1 0 0 0 0 1 1 0 0 0 0 1 1 0 0 0 1 0 1 0 1 0 0 0 0 0\n",
      " 1 1 1 1 1 0 0 1 1 0 1 0 1 1 1 0 0 0 0 0 0 1 1 0 1 0 0 0 1 1 1 1 0 1 1 1 1\n",
      " 0 0 0 0 0 1 0 0 1 1 0 0 0 1 1 1 1 0 0 0 1 1 0 1 0 0 0 0 0 0 0 0 1 1 0 0 0\n",
      " 1 0 1 0 0 1 0 1 0 0 1 1 0 0 0 0 0 1 0 0 0 1 0 0 1 1 0 0 1 0 0 0 1 1 1 0 0\n",
      " 1 0 1 0 1 1 0 1 0 0 1 0 1 1 0 0 1 0 1 0 0 1 0 1 0 1 1 1 0 0 1 0 1 0 0 0 1\n",
      " 0 0 0 0 1 1 1 0 0 0 0 0 0 0 0 0 1 0 0 0 0 0 1 1 1 0 1 1 0 0 1 0 0 1 0 0 1\n",
      " 1 0 0 0 0 1 0 0 1 0 0 0 0 0 0 0 1 1 1 0 0 1 0 0 1 0 0 1 0 1 1 0 1 0 1 0 1\n",
      " 0 1 1 0 0 0 0 1 1 0 1 0 1 0 0 0 0 1 1 0 1 0 1 0 0 0 0 0 1 0 0 0 0 1 0 0 1\n",
      " 1 1 0 0 1 0 0 1 0 0 0 1 0 0 1 0 0 0 0 0 0 0 0 0 1 0 0 0 0 0 0 0 1 0 0 0 1\n",
      " 0 0 0 1 1 0 0 0 0 0 0 0 1 0 0 0 0 1 0 0 0 1 0 0 0 1 0 0 0 1 0 0 0 0 1 1 0\n",
      " 0 0 0 0 0 1 0 0 0 0 0 0 0 0 0 0 0 1 0 0 0 1 1 1 1 0 0 1 1 0 0 0 0 0 0 0 0\n",
      " 0 0 0 0 0 1 1 0 0 0 0 0 0 0 1 0 0 0 0 0 0 0 1 0 1 1 0 0 0 1 0 1 0 1 0 1 0\n",
      " 1 0 0 1 0 0 1 0 0 0 0 1 1 0 1 0 0 0 0 1 1 0 1 0 0 0 1 1 0 0 0 0 0 0 0 0 0\n",
      " 0 1 0 0 0 0 1 0 0 1 0 0 0 1 0 0 0 1 1 1 0 0 0 0 0 0 1 0 0 0 1 0 1 1 1 1 0\n",
      " 1 1 0 0 0 0 0 0 0 1 1 0 1 0 0 1 0 1 0 0 0 0 0 1 0 1 0 1 0 1 1 0 0 0 0 1 1\n",
      " 0 0 0 1 0 1 1 0 0 1 0 0 1 1 0 0 1 0 0 1 0 0 0 0 0 0 0 1 1 1 0 0 0 0 0 0 1\n",
      " 1 0 0 1 0 0 1 0 1 1 1 0 0 1 1 1 0 1 0 1 0 1 0 0 0 0 1 0]\n"
     ]
    }
   ],
   "source": [
    "print(X)\n",
    "print(Y)"
   ]
  },
  {
   "cell_type": "code",
   "execution_count": 74,
   "id": "00034dae",
   "metadata": {},
   "outputs": [],
   "source": [
    "#Splitting the data into training and testing\n",
    "X_train, X_test, Y_train,Y_test = train_test_split(X , Y, test_size = 0.2, stratify = Y, random_state = 2)"
   ]
  },
  {
   "cell_type": "code",
   "execution_count": 75,
   "id": "dd7669bb",
   "metadata": {},
   "outputs": [
    {
     "name": "stdout",
     "output_type": "stream",
     "text": [
      "(768, 8) (614, 8) (154, 8)\n"
     ]
    }
   ],
   "source": [
    "print(X.shape,X_train.shape,X_test.shape)"
   ]
  },
  {
   "cell_type": "code",
   "execution_count": 76,
   "id": "d1372148",
   "metadata": {},
   "outputs": [
    {
     "name": "stdout",
     "output_type": "stream",
     "text": [
      "[[0.00e+00 1.19e+02 0.00e+00 ... 3.24e+01 1.41e-01 2.40e+01]\n",
      " [6.00e+00 1.05e+02 7.00e+01 ... 3.08e+01 1.22e-01 3.70e+01]\n",
      " [1.00e+00 1.89e+02 6.00e+01 ... 3.01e+01 3.98e-01 5.90e+01]\n",
      " ...\n",
      " [1.10e+01 8.50e+01 7.40e+01 ... 3.01e+01 3.00e-01 3.50e+01]\n",
      " [4.00e+00 1.12e+02 7.80e+01 ... 3.94e+01 2.36e-01 3.80e+01]\n",
      " [0.00e+00 8.60e+01 6.80e+01 ... 3.58e+01 2.38e-01 2.50e+01]]\n"
     ]
    }
   ],
   "source": [
    "print(X_train)"
   ]
  },
  {
   "cell_type": "code",
   "execution_count": 77,
   "id": "0b934f94",
   "metadata": {},
   "outputs": [],
   "source": [
    "#From the above cell we understand that we dont have the target column so we have to add the target column to the X_train\n",
    "X_train = np.insert(X_train,8,Y_train,axis=1)"
   ]
  },
  {
   "cell_type": "code",
   "execution_count": 78,
   "id": "1163e9b0",
   "metadata": {},
   "outputs": [
    {
     "name": "stdout",
     "output_type": "stream",
     "text": [
      "[[0.00e+00 1.19e+02 0.00e+00 ... 1.41e-01 2.40e+01 1.00e+00]\n",
      " [6.00e+00 1.05e+02 7.00e+01 ... 1.22e-01 3.70e+01 0.00e+00]\n",
      " [1.00e+00 1.89e+02 6.00e+01 ... 3.98e-01 5.90e+01 1.00e+00]\n",
      " ...\n",
      " [1.10e+01 8.50e+01 7.40e+01 ... 3.00e-01 3.50e+01 0.00e+00]\n",
      " [4.00e+00 1.12e+02 7.80e+01 ... 2.36e-01 3.80e+01 0.00e+00]\n",
      " [0.00e+00 8.60e+01 6.80e+01 ... 2.38e-01 2.50e+01 0.00e+00]]\n"
     ]
    }
   ],
   "source": [
    "print(X_train)"
   ]
  },
  {
   "cell_type": "code",
   "execution_count": 79,
   "id": "3b974033",
   "metadata": {},
   "outputs": [
    {
     "data": {
      "text/plain": [
       "(614, 9)"
      ]
     },
     "execution_count": 79,
     "metadata": {},
     "output_type": "execute_result"
    }
   ],
   "source": [
    "X_train.shape"
   ]
  },
  {
   "cell_type": "code",
   "execution_count": 80,
   "id": "9b8c5581",
   "metadata": {},
   "outputs": [
    {
     "name": "stdout",
     "output_type": "stream",
     "text": [
      "[1. 0. 1. 1. 1. 1. 0. 1. 0. 0. 1. 1. 0. 0. 0. 0. 0. 0. 0. 1. 0. 0. 0. 0.\n",
      " 0. 0. 1. 1. 0. 1. 0. 0. 0. 0. 1. 1. 0. 0. 0. 0. 0. 1. 0. 0. 0. 0. 0. 0.\n",
      " 1. 0. 1. 0. 0. 0. 0. 0. 1. 0. 1. 0. 0. 0. 0. 0. 0. 0. 0. 1. 1. 1. 0. 0.\n",
      " 0. 1. 1. 0. 1. 0. 1. 0. 0. 1. 1. 0. 0. 0. 0. 1. 1. 0. 0. 0. 1. 0. 0. 1.\n",
      " 0. 0. 1. 1. 0. 1. 0. 0. 1. 0. 0. 0. 0. 0. 0. 0. 1. 0. 0. 0. 0. 0. 1. 1.\n",
      " 0. 0. 1. 0. 0. 1. 0. 1. 0. 1. 1. 1. 1. 0. 0. 0. 0. 1. 0. 0. 0. 1. 0. 0.\n",
      " 0. 1. 1. 0. 1. 1. 0. 1. 1. 1. 1. 0. 0. 0. 1. 0. 0. 1. 0. 1. 0. 0. 1. 0.\n",
      " 0. 0. 0. 1. 0. 1. 1. 0. 1. 1. 0. 0. 0. 1. 0. 0. 0. 0. 1. 0. 1. 0. 1. 0.\n",
      " 0. 1. 0. 1. 0. 0. 1. 0. 1. 0. 0. 1. 1. 0. 1. 0. 0. 0. 0. 0. 0. 0. 1. 0.\n",
      " 1. 0. 0. 0. 1. 0. 0. 1. 1. 0. 0. 1. 0. 0. 1. 0. 0. 0. 1. 1. 1. 0. 0. 0.\n",
      " 0. 0. 0. 1. 0. 0. 0. 0. 0. 0. 1. 1. 0. 1. 0. 1. 1. 1. 1. 0. 0. 1. 0. 0.\n",
      " 1. 1. 0. 0. 0. 0. 1. 0. 0. 0. 1. 1. 1. 1. 1. 0. 1. 1. 0. 0. 0. 0. 0. 0.\n",
      " 0. 0. 0. 0. 0. 0. 1. 1. 0. 0. 0. 0. 1. 1. 0. 0. 0. 0. 0. 0. 0. 0. 0. 0.\n",
      " 1. 0. 1. 0. 0. 0. 1. 1. 1. 0. 0. 0. 0. 1. 0. 0. 0. 0. 0. 0. 0. 0. 1. 0.\n",
      " 0. 0. 0. 0. 0. 1. 1. 0. 0. 0. 0. 1. 1. 0. 1. 0. 0. 0. 1. 0. 0. 0. 0. 1.\n",
      " 0. 1. 0. 1. 1. 0. 0. 0. 0. 0. 0. 1. 1. 1. 1. 0. 1. 1. 1. 0. 1. 0. 0. 0.\n",
      " 1. 0. 1. 0. 0. 0. 1. 0. 0. 1. 1. 0. 0. 0. 0. 0. 1. 0. 0. 0. 0. 1. 0. 1.\n",
      " 0. 0. 0. 0. 0. 0. 1. 0. 0. 0. 0. 1. 0. 0. 0. 0. 0. 1. 0. 0. 0. 1. 0. 0.\n",
      " 0. 0. 1. 0. 1. 0. 0. 1. 0. 0. 0. 0. 1. 1. 1. 0. 0. 0. 1. 0. 0. 0. 1. 1.\n",
      " 0. 0. 1. 1. 0. 0. 0. 1. 0. 1. 1. 0. 1. 0. 0. 1. 1. 0. 0. 0. 0. 0. 1. 0.\n",
      " 1. 0. 0. 0. 0. 0. 0. 1. 0. 0. 0. 1. 0. 0. 0. 0. 1. 0. 0. 1. 0. 0. 1. 1.\n",
      " 0. 1. 0. 0. 1. 1. 0. 1. 0. 0. 1. 1. 0. 0. 0. 1. 0. 1. 0. 1. 1. 0. 0. 0.\n",
      " 0. 0. 0. 1. 0. 0. 1. 0. 1. 1. 1. 1. 1. 1. 0. 1. 1. 0. 1. 0. 1. 1. 0. 1.\n",
      " 0. 1. 0. 0. 0. 0. 0. 0. 0. 1. 0. 0. 0. 0. 0. 1. 1. 0. 1. 1. 0. 0. 1. 0.\n",
      " 1. 1. 1. 0. 0. 0. 0. 0. 0. 0. 0. 1. 0. 1. 0. 0. 0. 0. 0. 0. 1. 0. 0. 0.\n",
      " 1. 1. 0. 1. 0. 0. 1. 0. 0. 1. 1. 0. 0. 0.]\n"
     ]
    }
   ],
   "source": [
    "print(X_train[:,8])"
   ]
  },
  {
   "cell_type": "markdown",
   "id": "62e3a32c",
   "metadata": {},
   "source": [
    "### X_train --> Training data with features and target\n",
    "### X_test --> Test Data without target"
   ]
  },
  {
   "cell_type": "markdown",
   "id": "41cb41e1",
   "metadata": {},
   "source": [
    "## Model Training "
   ]
  },
  {
   "cell_type": "code",
   "execution_count": 90,
   "id": "808544f6",
   "metadata": {},
   "outputs": [],
   "source": [
    "#Loading the created Model\n",
    "classifier = KNN_Classifier(distance_metric='euclidean')"
   ]
  },
  {
   "cell_type": "markdown",
   "id": "4ebb8b44",
   "metadata": {},
   "source": [
    "#### Note : KNN can only predict one data Point at a Time"
   ]
  },
  {
   "cell_type": "code",
   "execution_count": 91,
   "id": "102f6b39",
   "metadata": {},
   "outputs": [],
   "source": [
    "prediction = classifier.predict(X_train,X_test[0],5)"
   ]
  },
  {
   "cell_type": "code",
   "execution_count": 95,
   "id": "b56d0ab2",
   "metadata": {},
   "outputs": [
    {
     "name": "stdout",
     "output_type": "stream",
     "text": [
      "[[0.00e+00 1.19e+02 0.00e+00 ... 1.41e-01 2.40e+01 1.00e+00]\n",
      " [6.00e+00 1.05e+02 7.00e+01 ... 1.22e-01 3.70e+01 0.00e+00]\n",
      " [1.00e+00 1.89e+02 6.00e+01 ... 3.98e-01 5.90e+01 1.00e+00]\n",
      " ...\n",
      " [1.10e+01 8.50e+01 7.40e+01 ... 3.00e-01 3.50e+01 0.00e+00]\n",
      " [4.00e+00 1.12e+02 7.80e+01 ... 2.36e-01 3.80e+01 0.00e+00]\n",
      " [0.00e+00 8.60e+01 6.80e+01 ... 2.38e-01 2.50e+01 0.00e+00]] [  3.    106.     72.      0.      0.     25.8     0.207  27.   ]\n"
     ]
    }
   ],
   "source": [
    "print(X_train,X_test[0])"
   ]
  },
  {
   "cell_type": "code",
   "execution_count": 96,
   "id": "338f23cb",
   "metadata": {},
   "outputs": [
    {
     "data": {
      "text/plain": [
       "(154, 8)"
      ]
     },
     "execution_count": 96,
     "metadata": {},
     "output_type": "execute_result"
    }
   ],
   "source": [
    "X_test.shape"
   ]
  },
  {
   "cell_type": "code",
   "execution_count": 98,
   "id": "16d04d7a",
   "metadata": {},
   "outputs": [],
   "source": [
    "#Now the values predicted from the classifier is one output so if we need multiple test we can use a for loop for it\n",
    "X_test_size = X_test.shape[0]"
   ]
  },
  {
   "cell_type": "code",
   "execution_count": 99,
   "id": "1c2212ca",
   "metadata": {},
   "outputs": [
    {
     "data": {
      "text/plain": [
       "154"
      ]
     },
     "execution_count": 99,
     "metadata": {},
     "output_type": "execute_result"
    }
   ],
   "source": [
    "X_test_size"
   ]
  },
  {
   "cell_type": "code",
   "execution_count": 100,
   "id": "8afa2ef5",
   "metadata": {},
   "outputs": [],
   "source": [
    "y_pred = []\n",
    "for i in range(X_test_size):\n",
    "    prediction = classifier.predict(X_train,X_test[i],k=5)\n",
    "    y_pred.append(prediction)\n"
   ]
  },
  {
   "cell_type": "code",
   "execution_count": 101,
   "id": "05292539",
   "metadata": {},
   "outputs": [
    {
     "name": "stdout",
     "output_type": "stream",
     "text": [
      "[0.0, 1.0, 0.0, 1.0, 1.0, 0.0, 0.0, 0.0, 0.0, 0.0, 1.0, 0.0, 0.0, 0.0, 0.0, 1.0, 0.0, 0.0, 0.0, 0.0, 0.0, 1.0, 0.0, 0.0, 0.0, 0.0, 0.0, 1.0, 0.0, 1.0, 1.0, 0.0, 0.0, 1.0, 0.0, 0.0, 0.0, 0.0, 0.0, 1.0, 1.0, 0.0, 0.0, 1.0, 1.0, 0.0, 1.0, 0.0, 0.0, 0.0, 0.0, 0.0, 0.0, 0.0, 1.0, 0.0, 0.0, 0.0, 0.0, 0.0, 1.0, 0.0, 1.0, 0.0, 0.0, 1.0, 0.0, 1.0, 0.0, 0.0, 1.0, 0.0, 0.0, 0.0, 0.0, 0.0, 0.0, 0.0, 0.0, 0.0, 0.0, 0.0, 0.0, 0.0, 0.0, 1.0, 0.0, 0.0, 0.0, 1.0, 0.0, 0.0, 1.0, 0.0, 0.0, 1.0, 0.0, 0.0, 1.0, 0.0, 0.0, 0.0, 1.0, 1.0, 1.0, 0.0, 0.0, 0.0, 1.0, 0.0, 1.0, 0.0, 1.0, 0.0, 0.0, 1.0, 0.0, 1.0, 0.0, 0.0, 1.0, 0.0, 0.0, 1.0, 0.0, 0.0, 0.0, 0.0, 0.0, 0.0, 0.0, 1.0, 1.0, 1.0, 0.0, 0.0, 0.0, 0.0, 0.0, 0.0, 1.0, 0.0, 0.0, 1.0, 0.0, 1.0, 0.0, 1.0, 0.0, 0.0, 1.0, 0.0, 0.0, 1.0]\n"
     ]
    }
   ],
   "source": [
    "print(y_pred)"
   ]
  },
  {
   "cell_type": "code",
   "execution_count": 102,
   "id": "c5caecdc",
   "metadata": {},
   "outputs": [],
   "source": [
    "y_true = y_pred"
   ]
  },
  {
   "cell_type": "markdown",
   "id": "58bc431a",
   "metadata": {},
   "source": [
    "## Model Evaluation"
   ]
  },
  {
   "cell_type": "code",
   "execution_count": 104,
   "id": "f6172d13",
   "metadata": {},
   "outputs": [],
   "source": [
    "accuracy = accuracy_score(y_true,Y_test)"
   ]
  },
  {
   "cell_type": "code",
   "execution_count": 106,
   "id": "1114238a",
   "metadata": {},
   "outputs": [
    {
     "name": "stdout",
     "output_type": "stream",
     "text": [
      "69.48051948051948\n"
     ]
    }
   ],
   "source": [
    "print(accuracy*100)"
   ]
  }
 ],
 "metadata": {
  "kernelspec": {
   "display_name": "Python 3 (ipykernel)",
   "language": "python",
   "name": "python3"
  },
  "language_info": {
   "codemirror_mode": {
    "name": "ipython",
    "version": 3
   },
   "file_extension": ".py",
   "mimetype": "text/x-python",
   "name": "python",
   "nbconvert_exporter": "python",
   "pygments_lexer": "ipython3",
   "version": "3.9.16"
  }
 },
 "nbformat": 4,
 "nbformat_minor": 5
}
